{
 "cells": [
  {
   "cell_type": "markdown",
   "metadata": {},
   "source": [
    "# Creation of a synthetic K2-100 spectroscopic-like time-series\n",
    "## Oscar Barragán, May 2021"
   ]
  },
  {
   "cell_type": "code",
   "execution_count": null,
   "metadata": {},
   "outputs": [],
   "source": [
    "#Imort modules\n",
    "from __future__ import print_function, division, absolute_import\n",
    "import numpy as np\n",
    "#Import citlalatonac from pyaneti_extras, note that pyaneti has to be compiled in your machine\n",
    "#and pyaneti has to be in your PYTHONPATH, e.g., you have to add in your bashrc file\n",
    "#export PYTHONPATH=${PYTHONPATH}:/pathtopyaneti/pyaneti\n",
    "#and replacing pathtopyaneti with the location of pyaneti in your machine\n",
    "from pyaneti_extras.citlalatonac import citlali, create_real_times\n",
    "#citli is the class that creates the spectroscopic-like time-series "
   ]
  },
  {
   "cell_type": "markdown",
   "metadata": {},
   "source": [
    "### let us summon `citlalatonac` powers and create synthetic stellar data for K2-100\n",
    "\n",
    "We will create synthetic spectroscopic-like time-series for the star K2-100. We assume that the stellar induced radial velocity, $\\log R'_{\\rm HK}$, and Bisector-Span time-series can be described as\n",
    "\n",
    "$$\n",
    "    RV =  A_1 G(t) + B_1 \\dot{G}(t), \\\\\n",
    "    \\log R'_{\\rm HK} =  A_2 G(t) + B_2 \\dot{G}(t), \\\\\n",
    "    BIS =  A_3 G(t) + B_3 \\dot{G}(t).\n",
    "$$\n",
    "\n",
    "We will use a quasi-periodic kernel (`kernel='QPK'`)\n",
    "$$\n",
    "    \\gamma_{i,j} =  \\exp \n",
    "    \\left(\n",
    "    - \\frac{\\sin^2\\left[\\pi \\left(t_i - t_j \\right)/P_{\\rm GP}\\right]}{2 \\lambda_{\\rm p}^2}\n",
    "    - \\frac{\\left(t_i - t_j\\right)^2}{2\\lambda_{\\rm e}^2}\n",
    "    \\right).\n",
    "$$\n",
    "\n",
    "Following [Barragán et al., 2019](https://academic.oup.com/mnras/article-abstract/490/1/698/5569669?redirectedFrom=fulltext), the amplitudes for this star are: \n",
    "\n",
    "$$A_1 = 0.0058, B_1=0.0421, A_2=0.0242, B_2=0.0, A_3=0.020,A_4=-0.086,$$\n",
    "\n",
    "we pass to citlalatonac as `amplitudes=[0.0058,0.0421,0.0242,0.0,0.020,-0.086]`.\n",
    "\n",
    "The hyper-parameters that describe the underlying Gaussian Process for K2-100 are \n",
    "\n",
    " $$\\lambda_e = 31.2, \\lambda_p = 0.558, P_{\\rm GP} = 4.315 $$ \n",
    "\n",
    "that we given as `kernel_parameters=[31.2,0.558,4.135]`. \n",
    "\n",
    "In this case we will create 3 timeseries (`nseries=3`) between 7760 (`tmin`) and 7820 (`tmax`) BJD - 2450000 (Note that for the creation of the time-series, the units of the time are not important, but they become important when we want to create data for a target at a given observatory, as we will see below).\n",
    "\n",
    "We will also name our time_series as rhk and bis, for $\\log R'_{\\rm HK}$ and $BIS$, respectively. By default, the first time-series is always called rvs.\n",
    "\n",
    "We can also pas a `seed` for the random number generator."
   ]
  },
  {
   "cell_type": "markdown",
   "metadata": {},
   "source": [
    "## Creating the underlying astrophysical signal"
   ]
  },
  {
   "cell_type": "code",
   "execution_count": null,
   "metadata": {},
   "outputs": [],
   "source": [
    "#Do all the previous description with one Python command\n",
    "star = citlali(tmin=7760,tmax=7860,nseries=3,kernel='QPK',kernel_parameters=[31.2,0.558,4.135],\n",
    "           amplitudes=[0.0058,0.0421,0.0242,0.0,0.020,-0.086],seed=1,time_series=['rhk','bis'])"
   ]
  },
  {
   "cell_type": "code",
   "execution_count": null,
   "metadata": {},
   "outputs": [],
   "source": [
    "#Let us see how the 3 time-series look\n",
    "star.plot()"
   ]
  },
  {
   "cell_type": "markdown",
   "metadata": {},
   "source": [
    "We can see that the behavior of the signal is similar to the one obtained analysing the real data set. See Figure 2 of [Barragán et al., 2019](https://academic.oup.com/mnras/article-abstract/490/1/698/5569669?redirectedFrom=fulltext). Now that we have the stellar variability model, we can add the planetary signal in the RV-like data set."
   ]
  },
  {
   "cell_type": "markdown",
   "metadata": {},
   "source": [
    "## Time to add the planetary signal\n",
    "\n",
    "To add a planetary signal, we have to call the `add_planet` method. We need to pass two elements to the method, the first one is a list constaining the plantary and orbital parameters\n",
    "\n",
    "`planet_params = [T0,P,e,w,K]`, \n",
    "\n",
    "being `T0` the time of minimum conjunction (time of transit for transiting planets), `K` planet induced Doppler semi-amplitude, `P` is the planet orbital period, `e` is orbital eccentricty, and `w` is the angle of periastron. We also need to pass a string to label the planet \n",
    "\n",
    "`planet_name = planet_b`\n",
    "\n",
    "In this example we will add `planet_name = K2-100b` with parameters\n",
    "\n",
    "$T0,K,P,e,w = 7140.71951,1.6739035,0,\\pi/2,0.0106$"
   ]
  },
  {
   "cell_type": "code",
   "execution_count": null,
   "metadata": {},
   "outputs": [],
   "source": [
    "#let us create the lists with the both planet parameters that we will pass to the add_planet attribute\n",
    "k2100_pars = [7140.71951,1.6739035,0,np.pi/2,0.0106]\n",
    "#Let us call the add_planet instance for the instrument i1 and let's call the planet 'b'\n",
    "star.add_planet(k2100_pars,'K2-100b')\n",
    "#Let us plot the time-series to see if we have added the planetary signal\n",
    "star.plot()"
   ]
  },
  {
   "cell_type": "markdown",
   "metadata": {},
   "source": [
    "At this point we have a model of the three signals created following the same underlying GP $G(t)$. Now it is time to create data taken at the times $\\mathbf{t}$ that we can specify. "
   ]
  },
  {
   "cell_type": "markdown",
   "metadata": {},
   "source": [
    "## Create data assuming we observe K2-100 from La Palma"
   ]
  },
  {
   "cell_type": "markdown",
   "metadata": {},
   "source": [
    "The `citlalatonac` package contains the create_real_times function that allow us to estimate the times at which a given target is observed from a observatory with an airmass limit. In this example we will assume that we want to collect 50 epochs of K2-100 from La Palma Observatory with an airmass limit of 1.5. We can do this by calliny the `create_real_times` with the parameters\n",
    "\n",
    "`create_real_times(tmin,tmax,ndata=50,air_mass_limit=1.5,tformat='mjd',star='K2-100',observatory='lapalma')`\n",
    "\n",
    "for more details about the observatories and targets see [`astropy` documentation](https://astroplan.readthedocs.io/en/latest/tutorials/summer_triangle.html)."
   ]
  },
  {
   "cell_type": "code",
   "execution_count": null,
   "metadata": {},
   "outputs": [],
   "source": [
    "#Get the times at which K2-100 is observed from La Palma between the time of our synthetic data\n",
    "t_k2100 = create_real_times(star.time.min(),star.time.max(),ndata=50,air_mass_limit=1.5,\n",
    "                            tformat='mjd',star='K2-100',observatory='lapalma')"
   ]
  },
  {
   "cell_type": "markdown",
   "metadata": {},
   "source": [
    "Now we have the times $\\mathbf{t}$ at which we want to create our observations, we can do this by calling the create_data method."
   ]
  },
  {
   "cell_type": "code",
   "execution_count": null,
   "metadata": {},
   "outputs": [],
   "source": [
    "#Let us create the data at times t\n",
    "star.create_data(t=t_k2100)\n",
    "#Let us see how our observations\n",
    "star.plot()"
   ]
  },
  {
   "cell_type": "markdown",
   "metadata": {},
   "source": [
    "### Adding white noise to our data"
   ]
  },
  {
   "cell_type": "markdown",
   "metadata": {},
   "source": [
    "The previous plot shows the positions at which we have created our observations. We still need to add some white noise to make the situation more realistic. We do this by passing an error bar for each time-series that we have created. We assume that our error bars are of 0.005 for the RV data, 0.01 for the $\\log R'_{\\rm HK}$ data, and 0.05 for the BIS data. We do this by calling the `add_white_noise` method and pass\n",
    "`err=[0.005,0.01,0.05]`."
   ]
  },
  {
   "cell_type": "code",
   "execution_count": null,
   "metadata": {},
   "outputs": [],
   "source": [
    "#The input vector err has to have one white noise term per each time-series\n",
    "star.add_white_noise(err=[0.001,0.005,0.050])\n",
    "star.plot()"
   ]
  },
  {
   "cell_type": "markdown",
   "metadata": {},
   "source": [
    "### Adding red noise to our data"
   ]
  },
  {
   "cell_type": "markdown",
   "metadata": {},
   "source": [
    "In real life, spectroscopic time-series also contain red-noise that can be caused by instrumental systematics.\n",
    "Therefore, if we want to use `citlalatonac` to simulate realistic data sets for our stars, we need to include this effects in our simulated data sets. The `add_red_noise` allows to add extra dispersion in the data that is not included in the nonimal error bars that are given to the data when adding white noise. The red noise is added with a GP following a Square-exponential kernel $\\gamma = A^2 \\exp[(t_i-t_j)^2/2\\lambda^2]$. If we assume that the instrument with which we plan to observe K2-100 has nigth to night variations of 0.001, then we can add red noise assuming that $A = 0.001$, and $\\lambda = 1$ as `se_parameters=[0.001,1]`."
   ]
  },
  {
   "cell_type": "code",
   "execution_count": null,
   "metadata": {},
   "outputs": [],
   "source": [
    "star.add_red_noise(se_parameters=[0.001,1])\n",
    "star.plot()"
   ]
  },
  {
   "cell_type": "markdown",
   "metadata": {},
   "source": [
    "### Save the file"
   ]
  },
  {
   "cell_type": "markdown",
   "metadata": {},
   "source": [
    "Now we have a synthetic data set of 3 time-series (RVs,$\\log R'_{\\rm HK}$,BIS) for K2-100 that we can use to test if we are able to detect the planetary induced signal if we collect 50 random observations from La Palma.\n",
    "We can do this by calling the `save_data` method. We can pass the name of the file to store the data, and the code will store the file as needed to be run with `pyaneti`."
   ]
  },
  {
   "cell_type": "code",
   "execution_count": null,
   "metadata": {},
   "outputs": [],
   "source": [
    "fname = 'K2100-synthetic.dat'\n",
    "star.save_data(fname)"
   ]
  },
  {
   "cell_type": "code",
   "execution_count": null,
   "metadata": {},
   "outputs": [],
   "source": []
  }
 ],
 "metadata": {
  "kernelspec": {
   "display_name": "Python 3 (ipykernel)",
   "language": "python",
   "name": "python3"
  },
  "language_info": {
   "codemirror_mode": {
    "name": "ipython",
    "version": 3
   },
   "file_extension": ".py",
   "mimetype": "text/x-python",
   "name": "python",
   "nbconvert_exporter": "python",
   "pygments_lexer": "ipython3",
   "version": "3.8.10"
  }
 },
 "nbformat": 4,
 "nbformat_minor": 2
}
