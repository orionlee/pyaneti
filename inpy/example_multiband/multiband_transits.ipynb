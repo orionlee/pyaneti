{
 "cells": [
  {
   "cell_type": "markdown",
   "metadata": {},
   "source": [
    "## Create flatten light curves for two different bands with two planets \n",
    "### This corresponds to the data used in Sect. 5.3 of pyaneti II paper\n",
    "#### O. Barragán, July 2021"
   ]
  },
  {
   "cell_type": "markdown",
   "metadata": {},
   "source": [
    "Load the libraries\n",
    "(You have to have citlalicue installed in your computer `pip install citlalicue`)"
   ]
  },
  {
   "cell_type": "code",
   "execution_count": null,
   "metadata": {},
   "outputs": [],
   "source": [
    "#Load libraries\n",
    "from __future__ import print_function, division, absolute_import\n",
    "import numpy as np\n",
    "import matplotlib.pyplot as plt\n",
    "#Import the light_curve class from citlalicue\n",
    "#You can install citlalicue as pip install citlalicue\n",
    "from citlalicue.citlalicue import citlali"
   ]
  },
  {
   "cell_type": "markdown",
   "metadata": {},
   "source": [
    "#### start a random seed number"
   ]
  },
  {
   "cell_type": "code",
   "execution_count": null,
   "metadata": {},
   "outputs": [],
   "source": [
    "seed = 28\n",
    "np.random.seed(seed)"
   ]
  },
  {
   "cell_type": "markdown",
   "metadata": {},
   "source": [
    "#### Let us create two citlali (light curves) instances, each one will be used for a different band\n"
   ]
  },
  {
   "cell_type": "code",
   "execution_count": null,
   "metadata": {},
   "outputs": [],
   "source": [
    "#lc1 will be used for band 1, data will be created between 0 and 15 days\n",
    "lc1 = citlali(tmin=0,tmax=15,cadence=5/60./24.)\n",
    "#lc2 will be used for band 2, data will be created between 20 and 30 days\n",
    "lc2 = citlali(tmin=20,tmax=30,cadence=5/60./24.) "
   ]
  },
  {
   "cell_type": "markdown",
   "metadata": {},
   "source": [
    "Let us plot the light curves to see how they look (flat with no signal at all)"
   ]
  },
  {
   "cell_type": "code",
   "execution_count": null,
   "metadata": {},
   "outputs": [],
   "source": [
    "#as it is now, the lc1 and lc2 instances corresponds to the light curves of a uniform disc star\n",
    "#let us plot it to see this\n",
    "lc1.plot(fsx=20,fsy=5)\n",
    "lc2.plot(fsx=20,fsy=5)"
   ]
  },
  {
   "cell_type": "markdown",
   "metadata": {},
   "source": [
    "## Time to add the transit signals\n",
    "\n",
    "We will create transits assuming we have two planets on circular orbits around a star with a density $\\rho_* = 1.4\\, \\mathrm{g\\,cm^{-3}}$\n",
    "\n",
    "The first set of transit signals will be asigned to a planet with parameters\n",
    "\n",
    "$$\n",
    "T_0 = 4,\n",
    "P  = 3,\n",
    "b  = 0.25,\n",
    "r_p = 0.025,\n",
    "$$\n",
    "\n",
    "where $T_0$ time of periastron, $P$ orbital period, $b$ impact parameter, $r_p$ planet radius scaled to the radius of the star.\n",
    "The second set of transits will be caused by a planet with parameters\n",
    "\n",
    "$$\n",
    "T_0 = 3,\n",
    "P  = 10,\n",
    "b  = 0.7,\n",
    "\\rho_*  = 1400,\n",
    "r_p/R_* = 0.05,\n",
    "$$\n",
    "\n",
    "And the first instrument will have quadractic limb darkening coefficients of \n",
    "\n",
    "$$\n",
    "u_{1,b1} = 0.25,\n",
    "u_{2,b1} = 0,\n",
    "$$\n",
    "\n",
    "and the second\n",
    "\n",
    "$$\n",
    "u_{1,b2} = 0.50,\n",
    "u_{2,b2} = 0.25.\n",
    "$$\n",
    "\n",
    "\n",
    "Let us create the parameters with all the values"
   ]
  },
  {
   "cell_type": "code",
   "execution_count": null,
   "metadata": {},
   "outputs": [],
   "source": [
    "#Stellar density\n",
    "rho = 1.4\n",
    "\n",
    "#Planet b parameters\n",
    "T0b = 4.\n",
    "Pb  = 3.\n",
    "bb  = 0.25\n",
    "rpb = 0.025\n",
    "\n",
    "#Planet c parameters\n",
    "T0c = 3.\n",
    "Pc  = 10.\n",
    "bc  = 0.7\n",
    "rpc = 0.05\n",
    "\n",
    "#Instrument b1 limb darkening coefficients\n",
    "u1_b1 = 0.25\n",
    "u2_b1 = 0\n",
    "\n",
    "#Instrument b1 limb darkening coefficients\n",
    "u1_b2 = 0.50\n",
    "u2_b2 = 0.25\n"
   ]
  },
  {
   "cell_type": "markdown",
   "metadata": {},
   "source": [
    "### Add both planets to lc1\n",
    "\n",
    "We will add the planet signals to our lc1 light curve. We will assign both planets but only the limb darkening coeffcients corresponding to the b1 instrument."
   ]
  },
  {
   "cell_type": "code",
   "execution_count": null,
   "metadata": {},
   "outputs": [],
   "source": [
    "#We pass the parameters to cilatlicue as\n",
    "\n",
    "#pars = [T0,P,b,rho,rp,u1,u2]\n",
    "\n",
    "#Let us create a list with all the parameters for planet b\n",
    "parsb = [T0b,Pb,bb,rho,rpb,u1_b1,u2_b1]\n",
    "\n",
    "#Let us create a list with all the parameters for planet c\n",
    "parsc = [T0c,Pc,bc,rho,rpc,u1_b1,u2_b1]\n",
    "\n",
    "#Let us add the planet b by calling the add_transits method\n",
    "lc1.add_transits(planet_parameters=parsb,planet_name='b')\n",
    "\n",
    "#And let us add the planet b by calling the add_transits method\n",
    "lc1.add_transits(planet_parameters=parsc,planet_name='c')\n",
    "\n",
    "#re-plot the light curve to see the planets\n",
    "lc1.plot(fsx=20,fsy=5)"
   ]
  },
  {
   "cell_type": "markdown",
   "metadata": {},
   "source": [
    "We can see two different sets of planet signals in our lc1 plot."
   ]
  },
  {
   "cell_type": "markdown",
   "metadata": {},
   "source": [
    "### Add both planets to lc2\n",
    "\n",
    "We will add the planet signals to our lc2 light curve. We will assign both planets but only the limb darkening coeffcients corresponding to the b2 instrument."
   ]
  },
  {
   "cell_type": "code",
   "execution_count": null,
   "metadata": {},
   "outputs": [],
   "source": [
    "#We pass the parameters to cilatlicue as\n",
    "\n",
    "#pars = [T0,P,b,rho,rp,u1,u2]\n",
    "\n",
    "#Let us create a list with all the parameters for planet b\n",
    "parsb = [T0b,Pb,bb,rho,rpb,u1_b2,u2_b2]\n",
    "\n",
    "#Let us create a list with all the parameters for planet c\n",
    "parsc = [T0c,Pc,bc,rho,rpc,u1_b2,u2_b2]\n",
    "\n",
    "#Let us add the planet b by calling the add_transits method\n",
    "lc2.add_transits(planet_parameters=parsb,planet_name='b')\n",
    "\n",
    "#And let us add the planet b by calling the add_transits method\n",
    "lc2.add_transits(planet_parameters=parsc,planet_name='c')\n",
    "\n",
    "#re-plot the light curve to see the planets\n",
    "lc2.plot(fsx=20,fsy=5)"
   ]
  },
  {
   "cell_type": "markdown",
   "metadata": {},
   "source": [
    "We can see two different sets of planet signals in our lc2 plot too."
   ]
  },
  {
   "cell_type": "markdown",
   "metadata": {},
   "source": [
    "## Time to add white noise\n",
    "\n",
    "We will add white noise to both time-series. Our first light curve will have a typical error bar of 500 ppm, while our second light curve of 100 ppm. This can be done easily by calling the `add_white_noise` method for each citlali instance."
   ]
  },
  {
   "cell_type": "code",
   "execution_count": null,
   "metadata": {},
   "outputs": [],
   "source": [
    "#Define the error bar that we want to add to b1\n",
    "error_bar_b1 = 500e-6\n",
    "\n",
    "#Call the add_white_noise attribute\n",
    "lc1.add_white_noise(std=error_bar_b1)\n",
    "\n",
    "#Define the error bar that we want to add to b2\n",
    "error_bar_b2 = 100e-6\n",
    "\n",
    "#Call the add_white_noise attribute\n",
    "lc2.add_white_noise(std=error_bar_b2)"
   ]
  },
  {
   "cell_type": "markdown",
   "metadata": {},
   "source": [
    "#### Let us plot both light curves together to see the difference between both data sets"
   ]
  },
  {
   "cell_type": "code",
   "execution_count": null,
   "metadata": {},
   "outputs": [],
   "source": [
    "plt.figure(1,figsize=(15,5))\n",
    "plt.plot(lc1.time,lc1.flux,'o',alpha=0.5,label='band b1')\n",
    "plt.plot(lc2.time,lc2.flux,'o',alpha=0.5,label='band b2')\n",
    "plt.xlabel('time [d]')\n",
    "plt.ylabel('Normalised flux')\n",
    "plt.legend()\n",
    "plt.show()"
   ]
  },
  {
   "cell_type": "markdown",
   "metadata": {},
   "source": [
    "## Let us save the data in the multiband.dat file\n",
    "\n",
    "Let us save the light curves in a file, taking care of assigning a different label for each band in order to model this data with pyaneti."
   ]
  },
  {
   "cell_type": "code",
   "execution_count": null,
   "metadata": {},
   "outputs": [],
   "source": [
    "fname = 'multiband.dat'\n",
    "with open(fname,'w') as f:\n",
    "    for i in range(len(lc1.time)):\n",
    "        f.write(\"{} {} {} {} \\n\".format(lc1.time[i],lc1.flux[i],lc1.error_bar,'b1'))\n",
    "    for i in range(len(lc2.time)):\n",
    "        f.write(\"{} {} {} {} \\n\".format(lc2.time[i],lc2.flux[i],lc2.error_bar,'b2'))"
   ]
  }
 ],
 "metadata": {
  "kernelspec": {
   "display_name": "Python 3",
   "language": "python",
   "name": "python3"
  },
  "language_info": {
   "codemirror_mode": {
    "name": "ipython",
    "version": 3
   },
   "file_extension": ".py",
   "mimetype": "text/x-python",
   "name": "python",
   "nbconvert_exporter": "python",
   "pygments_lexer": "ipython3",
   "version": "3.6.9"
  }
 },
 "nbformat": 4,
 "nbformat_minor": 2
}
